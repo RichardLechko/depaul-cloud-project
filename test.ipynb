{
 "cells": [
  {
   "cell_type": "code",
   "execution_count": 17,
   "metadata": {},
   "outputs": [],
   "source": [
    "import random\n",
    "import json\n",
    "import pickle\n",
    "import numpy as np\n",
    "import nltk\n"
   ]
  },
  {
   "cell_type": "code",
   "execution_count": 24,
   "metadata": {},
   "outputs": [],
   "source": [
    "from nltk.stem import WordNetLemmatizer\n",
    "from tensorflow.keras.models import load_model\n",
    "\n",
    "lemmatizer = WordNetLemmatizer\n",
    "intents = json.loads(open('intents.json').read())"
   ]
  },
  {
   "cell_type": "code",
   "execution_count": 25,
   "metadata": {},
   "outputs": [],
   "source": [
    "words= pickle.load(open('words.pkl', 'rb'))\n",
    "classes= pickle.load(open('classes.pkl', 'rb'))\n",
    "model = load_model('chatbot_model.keras')"
   ]
  },
  {
   "cell_type": "code",
   "execution_count": 26,
   "metadata": {},
   "outputs": [],
   "source": [
    "def clean_up_sentence(sentence):\n",
    "    sentence_words= nltk.word_tokenize(sentence)\n",
    "    sentence_words = [lemmatizer.lemmatize(word) for word in sentence_words]\n",
    "    return sentence_words"
   ]
  },
  {
   "cell_type": "code",
   "execution_count": 27,
   "metadata": {},
   "outputs": [],
   "source": [
    "def bag_of_words(sentence):\n",
    "    sentence_words = clean_up_sentence(sentence)\n",
    "    bag = [0]*len(words)\n",
    "    for w in sentence_words:\n",
    "        for i,word in enumerate(words):\n",
    "            if word == w:\n",
    "                bag[i] ==1\n",
    "    return np.array(bag)\n",
    "\n"
   ]
  },
  {
   "cell_type": "code",
   "execution_count": 29,
   "metadata": {},
   "outputs": [],
   "source": [
    "def predict_class(sentence):\n",
    "    bow = bag_of_words(sentence)\n",
    "    res = model.predict(np.array([bow]))[0]\n",
    "    ERROR_THRESHOLD = 0.25\n",
    "    results = [[i,r] for i, r in enumerate(res)if r>ERROR_THRESHOLD]\n",
    "    \n",
    "    results.sort(key=lambda x: x[1],reverse=True)\n",
    "    return_list = []\n",
    "    for r in results:\n",
    "        return_list.append({'intents': classes[r[0]], 'proability': str[r[1]]})\n",
    "    return return_list\n"
   ]
  },
  {
   "cell_type": "code",
   "execution_count": 31,
   "metadata": {},
   "outputs": [],
   "source": [
    "def get_response(intents_list, intents_json):\n",
    "    tag = intents_list[0]['intent']\n",
    "    list_of_intent = intents_json['intents']\n",
    "    for i in list_of_intent:\n",
    "        if i[tag] == tag:\n",
    "            result = random.choice(i['response'])\n",
    "            break\n",
    "    return result\n",
    "\n"
   ]
  },
  {
   "cell_type": "code",
   "execution_count": null,
   "metadata": {},
   "outputs": [],
   "source": [
    "print(\"Go! Bot is running!\")\n",
    "\n",
    "while True:\n",
    "    message = input(\"You: \")\n",
    "    if not message.strip():\n",
    "        print(\"Bot: Please enter a valid message.\")\n",
    "        continue\n",
    "\n",
    "    try:\n",
    "        ints = predict_class(message)\n",
    "        print(\"Debug: Predicted intents:\", ints)\n",
    "\n",
    "        res = get_response(ints, intents)\n",
    "        print(f\"Bot: {res}\")\n",
    "    except Exception as e:\n",
    "        print(f\"Bot: An error occurred: {str(e)}\")\n"
   ]
  }
 ],
 "metadata": {
  "language_info": {
   "name": "python"
  }
 },
 "nbformat": 4,
 "nbformat_minor": 2
}
